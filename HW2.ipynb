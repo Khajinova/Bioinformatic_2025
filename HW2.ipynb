{
  "cells": [
    {
      "cell_type": "markdown",
      "metadata": {
        "id": "view-in-github",
        "colab_type": "text"
      },
      "source": [
        "<a href=\"https://colab.research.google.com/github/Khajinova/Bioinformatic_2025/blob/main/HW2.ipynb\" target=\"_parent\"><img src=\"https://colab.research.google.com/assets/colab-badge.svg\" alt=\"Open In Colab\"/></a>"
      ]
    },
    {
      "cell_type": "markdown",
      "id": "e54f312c-2cb1-440d-879a-c6d563807128",
      "metadata": {
        "id": "e54f312c-2cb1-440d-879a-c6d563807128"
      },
      "source": [
        "import pandas as pd\n",
        "import matplotlib.pyplot as plt"
      ]
    },
    {
      "cell_type": "markdown",
      "id": "67f5b547-1f8b-45f5-8cdc-6da708b1dea0",
      "metadata": {
        "id": "67f5b547-1f8b-45f5-8cdc-6da708b1dea0"
      },
      "source": [
        "1. Работа с таблицей"
      ]
    },
    {
      "cell_type": "markdown",
      "id": "b12934a1-283a-4de8-ba4d-204c78965a44",
      "metadata": {
        "id": "b12934a1-283a-4de8-ba4d-204c78965a44"
      },
      "source": [
        "1.1 Чтение таблицы"
      ]
    },
    {
      "cell_type": "code",
      "execution_count": null,
      "id": "2d2aa3c7-7195-498d-965b-3fb910431667",
      "metadata": {
        "id": "2d2aa3c7-7195-498d-965b-3fb910431667"
      },
      "outputs": [],
      "source": [
        "df = pd.read_csv('TRB_10_7/TRB_10_7.tsv', sep='\\t')"
      ]
    },
    {
      "cell_type": "code",
      "execution_count": null,
      "id": "d6911f1b-2465-4b1b-9915-542324bf6bca",
      "metadata": {
        "id": "d6911f1b-2465-4b1b-9915-542324bf6bca",
        "outputId": "d800314b-f892-4c62-9677-d2a5f48c8098"
      },
      "outputs": [
        {
          "data": {
            "text/html": [
              "<div>\n",
              "<style scoped>\n",
              "    .dataframe tbody tr th:only-of-type {\n",
              "        vertical-align: middle;\n",
              "    }\n",
              "\n",
              "    .dataframe tbody tr th {\n",
              "        vertical-align: top;\n",
              "    }\n",
              "\n",
              "    .dataframe thead th {\n",
              "        text-align: right;\n",
              "    }\n",
              "</style>\n",
              "<table border=\"1\" class=\"dataframe\">\n",
              "  <thead>\n",
              "    <tr style=\"text-align: right;\">\n",
              "      <th></th>\n",
              "      <th>TGTGCCAGCAGCGGTAGGGGGACACTATTGGGCACCTTC</th>\n",
              "      <th>CASSGRGTLLGTF</th>\n",
              "      <th>TRBV7-9</th>\n",
              "      <th>TRBJ1-2</th>\n",
              "    </tr>\n",
              "  </thead>\n",
              "  <tbody>\n",
              "    <tr>\n",
              "      <th>0</th>\n",
              "      <td>TGTGGACGGAAGGACGAGCAGTACTTC</td>\n",
              "      <td>CGRKDEQYF</td>\n",
              "      <td>TRBV20-1</td>\n",
              "      <td>TRBJ2-7</td>\n",
              "    </tr>\n",
              "    <tr>\n",
              "      <th>1</th>\n",
              "      <td>TGCAGTGCTCGGGGCGTCTTCTCTGAAGCTTTCTTT</td>\n",
              "      <td>CSARGVFSEAFF</td>\n",
              "      <td>TRBV20-1</td>\n",
              "      <td>TRBJ1-1</td>\n",
              "    </tr>\n",
              "    <tr>\n",
              "      <th>2</th>\n",
              "      <td>TGTGCCACCAATGACAGGGGGCGCACCTACAATGAGCAGTTCTTC</td>\n",
              "      <td>CATNDRGRTYNEQFF</td>\n",
              "      <td>TRBV24-1</td>\n",
              "      <td>TRBJ2-1</td>\n",
              "    </tr>\n",
              "    <tr>\n",
              "      <th>3</th>\n",
              "      <td>TGTGCCAGCAGTTTAGCTGGACTAGCGGGTTGTCGGAAGTTGACGG...</td>\n",
              "      <td>CASSLAGLAGCRKLTEETQYF</td>\n",
              "      <td>TRBV27</td>\n",
              "      <td>TRBJ2-5</td>\n",
              "    </tr>\n",
              "    <tr>\n",
              "      <th>4</th>\n",
              "      <td>TGTGCCAGCAGCGTAGCAGGGGCGGGGAGTAGCTCCTACGAGCAGT...</td>\n",
              "      <td>CASSVAGAGSSSYEQYF</td>\n",
              "      <td>TRBV9</td>\n",
              "      <td>TRBJ2-7</td>\n",
              "    </tr>\n",
              "  </tbody>\n",
              "</table>\n",
              "</div>"
            ],
            "text/plain": [
              "             TGTGCCAGCAGCGGTAGGGGGACACTATTGGGCACCTTC          CASSGRGTLLGTF  \\\n",
              "0                        TGTGGACGGAAGGACGAGCAGTACTTC              CGRKDEQYF   \n",
              "1               TGCAGTGCTCGGGGCGTCTTCTCTGAAGCTTTCTTT           CSARGVFSEAFF   \n",
              "2      TGTGCCACCAATGACAGGGGGCGCACCTACAATGAGCAGTTCTTC        CATNDRGRTYNEQFF   \n",
              "3  TGTGCCAGCAGTTTAGCTGGACTAGCGGGTTGTCGGAAGTTGACGG...  CASSLAGLAGCRKLTEETQYF   \n",
              "4  TGTGCCAGCAGCGTAGCAGGGGCGGGGAGTAGCTCCTACGAGCAGT...      CASSVAGAGSSSYEQYF   \n",
              "\n",
              "    TRBV7-9  TRBJ1-2  \n",
              "0  TRBV20-1  TRBJ2-7  \n",
              "1  TRBV20-1  TRBJ1-1  \n",
              "2  TRBV24-1  TRBJ2-1  \n",
              "3    TRBV27  TRBJ2-5  \n",
              "4     TRBV9  TRBJ2-7  "
            ]
          },
          "execution_count": 32,
          "metadata": {},
          "output_type": "execute_result"
        }
      ],
      "source": [
        "df.head()"
      ]
    },
    {
      "cell_type": "code",
      "execution_count": null,
      "id": "5a1c1c3c-fab1-4144-ba5b-a8c4fb45ba29",
      "metadata": {
        "id": "5a1c1c3c-fab1-4144-ba5b-a8c4fb45ba29"
      },
      "outputs": [],
      "source": [
        "1.2 Построение графика"
      ]
    },
    {
      "cell_type": "code",
      "execution_count": null,
      "id": "7ca183f9-c466-40cd-aa44-4c7ceb020e79",
      "metadata": {
        "id": "7ca183f9-c466-40cd-aa44-4c7ceb020e79",
        "outputId": "0151ad13-7082-4afd-a54b-3a33d5599a70"
      },
      "outputs": [
        {
          "data": {
            "image/png": "[encoded data removed]",
            "text/plain": [
              "<Figure size 864x432 with 1 Axes>"
            ]
          },
          "metadata": {
            "needs_background": "light"
          },
          "output_type": "display_data"
        }
      ],
      "source": [
        "trbv_counts = df['TRBV7-9'].value_counts()\n",
        "plt.figure(figsize=(12, 6))\n",
        "trbv_counts.plot(kind='bar', color='blue')\n",
        "plt.xlabel('TRBV-ген')\n",
        "plt.ylabel('Количество')\n",
        "plt.title('Распределение TRBV-генов')\n",
        "plt.grid(axis='y', linestyle='--', alpha=0.7)\n",
        "\n",
        "plt.show()"
      ]
    },
    {
      "cell_type": "markdown",
      "id": "5aebd394-2ef6-4213-9ec6-91cc51763941",
      "metadata": {
        "id": "5aebd394-2ef6-4213-9ec6-91cc51763941"
      },
      "source": [
        "2. Картинка (Яшма)"
      ]
    },
    {
      "cell_type": "markdown",
      "id": "c4066808-2290-4fba-bbbf-70590f6679bd",
      "metadata": {
        "id": "c4066808-2290-4fba-bbbf-70590f6679bd"
      },
      "source": [
        "![IMG_9336.jpeg](attachment:765e1bd3-2cd9-4723-8a52-83f87eb69479.jpeg)"
      ]
    }
  ],
  "metadata": {
    "kernelspec": {
      "display_name": "Python 3 (ipykernel)",
      "language": "python",
      "name": "python3"
    },
    "language_info": {
      "codemirror_mode": {
        "name": "ipython",
        "version": 3
      },
      "file_extension": ".py",
      "mimetype": "text/x-python",
      "name": "python",
      "nbconvert_exporter": "python",
      "pygments_lexer": "ipython3",
      "version": "3.8.12"
    },
    "colab": {
      "provenance": [],
      "include_colab_link": true
    }
  },
  "nbformat": 4,
  "nbformat_minor": 5
}