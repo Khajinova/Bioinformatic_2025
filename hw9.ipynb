{
 "cells": [
  {
   "cell_type": "markdown",
   "id": "70bcfb36-8b26-4ba1-9551-a2ebb3110757",
   "metadata": {},
   "source": [
    "1"
   ]
  },
  {
   "cell_type": "code",
   "execution_count": 4,
   "id": "35a888d5-20d5-4a48-b343-d271840979b1",
   "metadata": {},
   "outputs": [
    {
     "data": {
      "image/png": "[encoded data removed]",
      "text/plain": [
       "<Figure size 576x432 with 1 Axes>"
      ]
     },
     "metadata": {
      "needs_background": "light"
     },
     "output_type": "display_data"
    },
    {
     "name": "stdout",
     "output_type": "stream",
     "text": [
      "a. Квартили:\n",
      "  Q1 (25%): 73.75\n",
      "  Q2 (Медиана, 50%): 79.0\n",
      "  Q3 (75%): 80.0\n",
      "\n",
      "b. Межквартильный размах (IQR): 6.25 \n",
      "\n",
      "c. Основные статистики:\n",
      "  Минимум: 45\n",
      "  Q1 (25%): 73.75\n",
      "  Медиана (Q2, 50%): 79.0\n",
      "  Q3 (75%): 80.0\n",
      "  Максимум: 82\n",
      "\n",
      "d. Потенциальные выбросы: [64, 45, 48]\n"
     ]
    }
   ],
   "source": [
    "import numpy as np\n",
    "import matplotlib.pyplot as plt\n",
    "import seaborn as sns\n",
    "\n",
    "# Данные\n",
    "data = np.array([79, 80, 80, 80, 74, 80, 80, 79, 64, 78, 73, 78, 74, 45, 81, 48, 80, 82, 82, 70])\n",
    "\n",
    "# a. Получение квартилей\n",
    "Q1 = np.percentile(data, 25)\n",
    "Q2 = np.percentile(data, 50) \n",
    "Q3 = np.percentile(data, 75)\n",
    "\n",
    "# b. Межквартильный размах\n",
    "IQR = Q3 - Q1\n",
    "\n",
    "# c. Минимум, Q25, медиана, Q75 и максимум\n",
    "min_val = np.min(data)\n",
    "max_val = np.max(data)\n",
    "stats = {\n",
    "    'Минимум': min_val,\n",
    "    'Q1 (25%)': Q1,\n",
    "    'Медиана (Q2, 50%)': Q2,\n",
    "    'Q3 (75%)': Q3,\n",
    "    'Максимум': max_val\n",
    "}\n",
    "\n",
    "# d. Поиск выбросов\n",
    "lower_bound = Q1 - 1.5 * IQR\n",
    "upper_bound = Q3 + 1.5 * IQR\n",
    "outliers = [x for x in data if x < lower_bound or x > upper_bound]\n",
    "\n",
    "# e. Построение boxplot\n",
    "plt.figure(figsize=(8, 6))\n",
    "sns.boxplot(data=data)\n",
    "plt.title('Ящик с усами для заданных данных')\n",
    "plt.ylabel('Значения')\n",
    "plt.show()\n",
    "\n",
    "# Вывод результатов\n",
    "print(\"a. Квартили:\")\n",
    "print(f\"  Q1 (25%): {Q1}\")\n",
    "print(f\"  Q2 (Медиана, 50%): {Q2}\")\n",
    "print(f\"  Q3 (75%): {Q3}\\n\")\n",
    "\n",
    "print(\"b. Межквартильный размах (IQR):\", IQR, \"\\n\")\n",
    "\n",
    "print(\"c. Основные статистики:\")\n",
    "for key, value in stats.items():\n",
    "    print(f\"  {key}: {value}\")\n",
    "\n",
    "print(\"\\nd. Потенциальные выбросы:\", outliers if outliers else \"Выбросы не обнаружены\")"
   ]
  },
  {
   "cell_type": "markdown",
   "id": "5187a8bd-a44f-4ca3-bb2c-39b2bf6d7fb5",
   "metadata": {},
   "source": [
    "2"
   ]
  },
  {
   "cell_type": "code",
   "execution_count": null,
   "id": "097e7c38-d33f-4608-861a-62b48c339daf",
   "metadata": {},
   "outputs": [],
   "source": [
    "#!/bin/bash\n",
    "#SBATCH --job-name=fastqc_analysis\n",
    "#SBATCH --output=fastqc.log\n",
    "#SBATCH --error=fastqc.err\n",
    "#SBATCH --time=1:00:00\n",
    "#SBATCH --mem=2G\n",
    "#SBATCH --cpus-per-task=2\n",
    "\n",
    "# Загрузка необходимых модулей\n",
    "module load fastqc multiqc \n",
    "\n",
    "# Создание директории для результатов\n",
    "mkdir -p fastqc_results\n",
    "\n",
    "# Запуск FastQC\n",
    "fastqc -o fastqc_results -t $SLURM_CPUS_PER_TASK *.fastq.gz\n",
    "\n",
    "# Создание общего отчета\n",
    "multiqc fastqc_results -n multiqc_report"
   ]
  }
 ],
 "metadata": {
  "kernelspec": {
   "display_name": "Python 3 (ipykernel)",
   "language": "python",
   "name": "python3"
  },
  "language_info": {
   "codemirror_mode": {
    "name": "ipython",
    "version": 3
   },
   "file_extension": ".py",
   "mimetype": "text/x-python",
   "name": "python",
   "nbconvert_exporter": "python",
   "pygments_lexer": "ipython3",
   "version": "3.8.12"
  }
 },
 "nbformat": 4,
 "nbformat_minor": 5
}
